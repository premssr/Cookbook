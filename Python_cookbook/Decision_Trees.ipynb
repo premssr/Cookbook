{
 "cells": [
  {
   "cell_type": "markdown",
   "id": "3fb929b1",
   "metadata": {},
   "source": [
    "### Training a Decision Tree Classifier"
   ]
  },
  {
   "cell_type": "code",
   "execution_count": 1,
   "id": "b14b71fb",
   "metadata": {},
   "outputs": [],
   "source": [
    "from sklearn.tree import DecisionTreeClassifier\n",
    "from sklearn import datasets\n",
    "\n",
    "\n",
    "# Load data\n",
    "iris = datasets.load_iris()\n",
    "features = iris.data\n",
    "target = iris.target\n",
    "\n",
    "\n",
    "# Create decision tree classifier object\n",
    "decisiontree = DecisionTreeClassifier(random_state=0)\n",
    "\n",
    "# Train model\n",
    "model = decisiontree.fit(features, target)"
   ]
  },
  {
   "cell_type": "code",
   "execution_count": 5,
   "id": "a05d2106",
   "metadata": {},
   "outputs": [
    {
     "data": {
      "text/plain": [
       "array([1])"
      ]
     },
     "execution_count": 5,
     "metadata": {},
     "output_type": "execute_result"
    }
   ],
   "source": [
    "observation = [[ 5, 4, 3, 2]]\n",
    "model.predict(observation)"
   ]
  },
  {
   "cell_type": "code",
   "execution_count": 4,
   "id": "0733dc24",
   "metadata": {},
   "outputs": [
    {
     "data": {
      "text/plain": [
       "array([[0., 1., 0.]])"
      ]
     },
     "execution_count": 4,
     "metadata": {},
     "output_type": "execute_result"
    }
   ],
   "source": [
    "model.predict_proba(observation)"
   ]
  },
  {
   "cell_type": "markdown",
   "id": "7e840f69",
   "metadata": {},
   "source": [
    "#### Change the criterion of split"
   ]
  },
  {
   "cell_type": "code",
   "execution_count": 6,
   "id": "1ca8a7d3",
   "metadata": {},
   "outputs": [],
   "source": [
    "decisiontree_entropy = DecisionTreeClassifier(criterion='entropy', random_state=0)"
   ]
  },
  {
   "cell_type": "markdown",
   "id": "1cc46925",
   "metadata": {},
   "source": [
    "### Training a Regressor"
   ]
  },
  {
   "cell_type": "code",
   "execution_count": 9,
   "id": "01d5cac7",
   "metadata": {},
   "outputs": [
    {
     "name": "stderr",
     "output_type": "stream",
     "text": [
      "c:\\users\\prem\\miniconda3\\lib\\site-packages\\sklearn\\utils\\deprecation.py:87: FutureWarning: Function load_boston is deprecated; `load_boston` is deprecated in 1.0 and will be removed in 1.2.\n",
      "\n",
      "    The Boston housing prices dataset has an ethical problem. You can refer to\n",
      "    the documentation of this function for further details.\n",
      "\n",
      "    The scikit-learn maintainers therefore strongly discourage the use of this\n",
      "    dataset unless the purpose of the code is to study and educate about\n",
      "    ethical issues in data science and machine learning.\n",
      "\n",
      "    In this special case, you can fetch the dataset from the original\n",
      "    source::\n",
      "\n",
      "        import pandas as pd\n",
      "        import numpy as np\n",
      "\n",
      "\n",
      "        data_url = \"http://lib.stat.cmu.edu/datasets/boston\"\n",
      "        raw_df = pd.read_csv(data_url, sep=\"\\s+\", skiprows=22, header=None)\n",
      "        data = np.hstack([raw_df.values[::2, :], raw_df.values[1::2, :2]])\n",
      "        target = raw_df.values[1::2, 2]\n",
      "\n",
      "    Alternative datasets include the California housing dataset (i.e.\n",
      "    :func:`~sklearn.datasets.fetch_california_housing`) and the Ames housing\n",
      "    dataset. You can load the datasets as follows::\n",
      "\n",
      "        from sklearn.datasets import fetch_california_housing\n",
      "        housing = fetch_california_housing()\n",
      "\n",
      "    for the California housing dataset and::\n",
      "\n",
      "        from sklearn.datasets import fetch_openml\n",
      "        housing = fetch_openml(name=\"house_prices\", as_frame=True)\n",
      "\n",
      "    for the Ames housing dataset.\n",
      "    \n",
      "  warnings.warn(msg, category=FutureWarning)\n"
     ]
    }
   ],
   "source": [
    "# Load libraries\n",
    "from sklearn.tree import DecisionTreeRegressor\n",
    "from sklearn import datasets\n",
    "\n",
    "\n",
    "# Load data with only two features\n",
    "boston = datasets.load_boston()\n",
    "features = boston.data[:,0:2]\n",
    "target = boston.target\n",
    "\n",
    "\n",
    "# Create decision tree classifier object\n",
    "decisiontree = DecisionTreeRegressor(random_state=0)\n",
    "\n",
    "\n",
    "# Train model\n",
    "model = decisiontree.fit(features, target)"
   ]
  },
  {
   "cell_type": "code",
   "execution_count": 10,
   "id": "5c1b3d8c",
   "metadata": {},
   "outputs": [
    {
     "data": {
      "text/plain": [
       "array([33.])"
      ]
     },
     "execution_count": 10,
     "metadata": {},
     "output_type": "execute_result"
    }
   ],
   "source": [
    "# Make new observation\n",
    "observation = [[0.02, 16]]\n",
    "\n",
    "# Predict observation's value\n",
    "model.predict(observation)"
   ]
  },
  {
   "cell_type": "code",
   "execution_count": 11,
   "id": "c0e905cb",
   "metadata": {},
   "outputs": [
    {
     "name": "stderr",
     "output_type": "stream",
     "text": [
      "c:\\users\\prem\\miniconda3\\lib\\site-packages\\sklearn\\tree\\_classes.py:366: FutureWarning: Criterion 'mae' was deprecated in v1.0 and will be removed in version 1.2. Use `criterion='absolute_error'` which is equivalent.\n",
      "  warnings.warn(\n"
     ]
    }
   ],
   "source": [
    "#Create decision tree classifier object using entropy\n",
    "decisiontree_mae = DecisionTreeRegressor(criterion=\"mae\", random_state=0)\n",
    "\n",
    "# Train model\n",
    "model_mae = decisiontree_mae.fit(features, target)"
   ]
  },
  {
   "cell_type": "code",
   "execution_count": null,
   "id": "75189f66",
   "metadata": {},
   "outputs": [],
   "source": []
  }
 ],
 "metadata": {
  "kernelspec": {
   "display_name": "Python 3 (ipykernel)",
   "language": "python",
   "name": "python3"
  },
  "language_info": {
   "codemirror_mode": {
    "name": "ipython",
    "version": 3
   },
   "file_extension": ".py",
   "mimetype": "text/x-python",
   "name": "python",
   "nbconvert_exporter": "python",
   "pygments_lexer": "ipython3",
   "version": "3.9.5"
  }
 },
 "nbformat": 4,
 "nbformat_minor": 5
}
